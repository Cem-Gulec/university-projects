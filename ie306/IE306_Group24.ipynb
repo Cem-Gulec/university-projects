{
 "cells": [
  {
   "cell_type": "markdown",
   "metadata": {},
   "source": [
    "# IE 306.02 SimPy Assingment 1\n",
    "## Group 24\n",
    "- Özge Dinçsoy\n",
    "- Alperen Yakut\n",
    "- Mustafa Enes Çakır\n",
    "\n",
    "**NOTE: We write required statistics programatically, so you need to do \"Cell->Run All\" (or run all cells from top to bottom manuelly) in order to see correct results.**\n",
    "\n",
    "**Requirements:** Python 3.6"
   ]
  },
  {
   "cell_type": "code",
   "execution_count": null,
   "metadata": {},
   "outputs": [],
   "source": [
    "import simpy\n",
    "import random"
   ]
  },
  {
   "cell_type": "markdown",
   "metadata": {},
   "source": [
    "**Define a set of globals that define the characteristics of the model instance to be simulated.**\n",
    "- *RANDOM_SEED* **->** The seed for the random number generators\n",
    "- *INTERARRIVAL_MEAN* **->** The mean of exponentially distributed arrival time\n",
    "- *INTERARRIVAL_RATE* **->** The rate of exponentially distributed arrival time\n",
    "- *SERVICE_TIME_OPERATOR_MEAN* **->** The mean of Gaussian distributed operator service time\n",
    "- *SERVICE_TIME_OPERATOR_DEVIATION* **->** The standard deviation of Gaussian distributed operator service time\n",
    "- *SERVICE_TIME_EXPERT_MEAN* **->** The mean of Exponentially distributed expert service time\n",
    "- *SERVICE_TIME_EXPERT_DEVIATION* **->** The standard deviation of Normally distributed expert service time\n",
    "- *BREAK_TIME* **->** The length of expert's break\n",
    "- *BREAK_TIME_RATE* **->** The mean of Poisson distributed expert's break time. 8 breaks for 8 hour shift, so 1 break for 1 hour. 1/60 break for 1 minutes"
   ]
  },
  {
   "cell_type": "code",
   "execution_count": null,
   "metadata": {},
   "outputs": [],
   "source": [
    "RANDOM_SEED = 9780\n",
    "INTERARRIVAL_MEAN = 15.6 \n",
    "INTERARRIVAL_RATE = 1.0 / INTERARRIVAL_MEAN\n",
    "\n",
    "SERVICE_TIME_OPERATOR_MEAN = 4.2\n",
    "SERVICE_TIME_OPERATOR_DEVIATION = 1.5\n",
    "\n",
    "SERVICE_TIME_EXPERT_MEAN = 9.3\n",
    "SERVICE_TIME_EXPERT_DEVIATION = 3.1\n",
    "SERVICE_TIME_EXPERT_RATE = 1.0 / SERVICE_TIME_EXPERT_MEAN\n",
    "\n",
    "BREAK_TIME = 5\n",
    "BREAK_TIME_RATE = 1/60\n",
    "CUSTOMER_COUNT = 1000\n",
    "random.seed(RANDOM_SEED)"
   ]
  },
  {
   "cell_type": "markdown",
   "metadata": {},
   "source": [
    "**Define the necessary set of arrays for statistics**"
   ]
  },
  {
   "cell_type": "code",
   "execution_count": null,
   "metadata": {},
   "outputs": [],
   "source": [
    "# Duration of the conversation between the customer and the operator (Operator service time)\n",
    "service_times_operator = []\n",
    "\n",
    "# Duration of the conversation between the customer and the expert (Expert service time)\n",
    "service_times_expert = []\n",
    "\n",
    "# Time spent by a customer while it waits for the operator (Operator Queue waiting time)\n",
    "queue_w_times_operator = []\n",
    "\n",
    "# Time spent by a customer while it waits for the expert (Expert Queue waiting time)\n",
    "queue_w_times_expert = []\n",
    "\n",
    "# Simulation end time\n",
    "end_time = 0;"
   ]
  },
  {
   "cell_type": "markdown",
   "metadata": {},
   "source": [
    "**Explanation of the process**\n",
    "\n",
    "* The class definition for the customers arriving at the modeled system. When they are created, they immediatelly initiate a call (i.e. activate the call process). \n",
    "\n",
    "* Once a call is initiated, this is registered as a request to the operator resource. The customer is put on hold until the resource activates it back. \n",
    "\n",
    "* When the operator resource is available, the customer is activated and it then initiates the ask_question process. The duration of a question-answer session is determined randomly according to a uniform distribution.\n",
    "\n",
    "* When the customer done with operator, he/she is registered as a request to the expert resource. The customer is put on hold until the resource activates it back. \n",
    "\n",
    "* When the expert resource is available, the customer is activated and it then initiates the get_help process. The duration of a help session is determined randomly according to a exponentially distribution."
   ]
  },
  {
   "cell_type": "code",
   "execution_count": null,
   "metadata": {},
   "outputs": [],
   "source": [
    "class Customer(object):\n",
    "    def __init__(self, name, env, operator, expert):\n",
    "        self.env = env\n",
    "        self.name = name\n",
    "        self.arrival_t = self.env.now\n",
    "        self.action = env.process(self.call())\n",
    "    \n",
    "    def call(self):\n",
    "        print('%s initiated a call at %g' % (self.name, self.env.now))\n",
    "\n",
    "        with operator.request() as req:\n",
    "            yield req\n",
    "            print('%s is assigned to a operator at %g' % (self.name, self.env.now))\n",
    "            queue_w_times_operator.append(self.env.now - self.arrival_t)\n",
    "            yield self.env.process(self.ask_question())\n",
    "            print('%s is done operator at %g' % (self.name, self.env.now))\n",
    "            self.done_t = self.env.now\n",
    "    \n",
    "        with expert.request() as req:\n",
    "            yield req\n",
    "            print('%s is assigned to a expert at %g' % (self.name, self.env.now))\n",
    "            queue_w_times_expert.append(self.env.now - self.done_t)\n",
    "            yield self.env.process(self.get_help())\n",
    "            print('%s is done expert at %g' % (self.name, self.env.now))\n",
    "            global end_time \n",
    "            end_time = self.env.now\n",
    "\n",
    "    def ask_question(self):\n",
    "        duration = random.gauss(SERVICE_TIME_OPERATOR_MEAN, SERVICE_TIME_OPERATOR_DEVIATION)\n",
    "        while duration < 0:\n",
    "            duration = random.gauss(SERVICE_TIME_OPERATOR_MEAN, SERVICE_TIME_OPERATOR_DEVIATION)\n",
    "\n",
    "        yield self.env.timeout(duration)\n",
    "        service_times_operator.append(duration)\n",
    "        \n",
    "    def get_help(self):\n",
    "        duration = random.expovariate(SERVICE_TIME_EXPERT_RATE)\n",
    "        while duration < 0:\n",
    "            duration = random.expovariate(SERVICE_TIME_EXPERT_RATE)\n",
    "            \n",
    "        yield self.env.timeout(duration)\n",
    "        service_times_expert.append(duration)\n"
   ]
  },
  {
   "cell_type": "code",
   "execution_count": null,
   "metadata": {},
   "outputs": [],
   "source": [
    "class CustomerNorm(Customer):\n",
    "    \"\"\" Customer that has normally distributed expert service\"\"\"\n",
    "    def get_help(self):\n",
    "        duration = random.gauss(SERVICE_TIME_EXPERT_MEAN, SERVICE_TIME_EXPERT_DEVIATION)\n",
    "        while duration < 0:\n",
    "            duration = random.gauss(SERVICE_TIME_EXPERT_MEAN, SERVICE_TIME_EXPERT_DEVIATION)\n",
    "            \n",
    "        yield self.env.timeout(duration)\n",
    "        service_times_expert.append(duration)\n",
    "\n"
   ]
  },
  {
   "cell_type": "code",
   "execution_count": null,
   "metadata": {},
   "outputs": [],
   "source": [
    "def customer_generator(env, operator, expert):\n",
    "    \"\"\"Generate new customer that call to call center.\"\"\"\n",
    "    for i in range(CUSTOMER_COUNT):\n",
    "        yield env.timeout(random.expovariate(INTERARRIVAL_RATE))\n",
    "        customer = Customer('Customer %s' %(i+1), env, operator, expert)  "
   ]
  },
  {
   "cell_type": "code",
   "execution_count": null,
   "metadata": {},
   "outputs": [],
   "source": [
    "def customer_norm_generator(env, operator, expert):\n",
    "    \"\"\"Generate new customer with normally distributed expert service that call to call center.\"\"\"\n",
    "    for i in range(CUSTOMER_COUNT):\n",
    "        yield env.timeout(random.expovariate(INTERARRIVAL_RATE))\n",
    "        customer = CustomerNorm('Customer %s' %(i+1), env, operator, expert)  "
   ]
  },
  {
   "cell_type": "code",
   "execution_count": null,
   "metadata": {},
   "outputs": [],
   "source": [
    "def break_generator(env, operator, expert):\n",
    "    \"\"\"Generate new break for expert.\"\"\"\n",
    "    while True:\n",
    "        if len(queue_w_times_expert) == CUSTOMER_COUNT:\n",
    "            break\n",
    "        yield env.timeout(random.expovariate(BREAK_TIME_RATE))\n",
    "        with expert.request() as req:\n",
    "            yield req\n",
    "            print('Expert gives break at %g' % (env.now))\n",
    "            yield env.timeout(BREAK_TIME)\n",
    "            print('Expert break done at %g' % (env.now))\n",
    "\n"
   ]
  },
  {
   "cell_type": "markdown",
   "metadata": {},
   "source": [
    "## Expert service time Exponentially distributed with a mean of 9.3 - 1000 CUSTOMER"
   ]
  },
  {
   "cell_type": "code",
   "execution_count": null,
   "metadata": {
    "scrolled": true
   },
   "outputs": [],
   "source": [
    "env = simpy.Environment()\n",
    "operator = simpy.Resource(env, capacity = 1)\n",
    "expert = simpy.Resource(env, capacity = 1)\n",
    "env.process(customer_generator(env, operator, expert))\n",
    "env.process(break_generator(env, operator, expert))\n",
    "env.run()"
   ]
  },
  {
   "cell_type": "code",
   "execution_count": null,
   "metadata": {},
   "outputs": [],
   "source": [
    "# Calculating statistics\n",
    "CUSTOMER_COUNT = 1000\n",
    "print(\"Expert service time Exponentially distributed with a mean of 9.3 - 1000 CUSTOMER\")\n",
    "total_operator_service_time = sum(service_times_operator)\n",
    "operator_util = total_operator_service_time / end_time\n",
    "total_expert_service_time = sum(service_times_expert)\n",
    "expert_util = total_expert_service_time / end_time\n",
    "print(\"First Operator Utilization: %f\" % (operator_util))\n",
    "print(\"Expert Utilization: %f\" % (expert_util))\n",
    "\n",
    "ave_total_wait_time = sum([x + y for x, y in zip(queue_w_times_operator, queue_w_times_expert)]) / CUSTOMER_COUNT\n",
    "print(\"Average Total Waiting Time: %f\" % (ave_total_wait_time))\n",
    "\n",
    "max_total_w_system_time_ratio = max([(w1 + w2) / end_time for w1, w2 in zip(queue_w_times_operator, queue_w_times_expert)])\n",
    "print(\"Maximum Total Waiting Time to Total System Time Ratio: %f\" % (max_total_w_system_time_ratio))\n",
    "\n",
    "ave_people_w_expert = sum(queue_w_times_expert) / end_time\n",
    "print(\"Average Number of people waiting to be served by the expert operator: %f\" % (ave_people_w_expert))\n"
   ]
  },
  {
   "cell_type": "markdown",
   "metadata": {},
   "source": [
    "## Expert service time Exponentially distributed with a mean of 9.3 - 5000 CUSTOMER"
   ]
  },
  {
   "cell_type": "code",
   "execution_count": null,
   "metadata": {},
   "outputs": [],
   "source": [
    "# Reset statistics\n",
    "service_times_operator = []\n",
    "service_times_expert = []\n",
    "queue_w_times_operator = []\n",
    "queue_w_times_expert = []\n",
    "end_time = 0;\n",
    "\n",
    "# Change customer count\n",
    "CUSTOMER_COUNT = 5000"
   ]
  },
  {
   "cell_type": "code",
   "execution_count": null,
   "metadata": {},
   "outputs": [],
   "source": [
    "env = simpy.Environment()\n",
    "operator = simpy.Resource(env, capacity = 1)\n",
    "expert = simpy.Resource(env, capacity = 1)\n",
    "env.process(customer_generator(env, operator, expert))\n",
    "env.process(break_generator(env, operator, expert))\n",
    "env.run()"
   ]
  },
  {
   "cell_type": "code",
   "execution_count": null,
   "metadata": {
    "scrolled": true
   },
   "outputs": [],
   "source": [
    "# Calculating statistics\n",
    "CUSTOMER_COUNT = 5000\n",
    "print(\"Expert service time Exponentially distributed with a mean of 9.3 - 5000 CUSTOMER\")\n",
    "total_operator_service_time = sum(service_times_operator)\n",
    "operator_util = total_operator_service_time / end_time\n",
    "total_expert_service_time = sum(service_times_expert)\n",
    "expert_util = total_expert_service_time / end_time\n",
    "print(\"First Operator Utilization: %f\" % (operator_util))\n",
    "print(\"Expert Utilization: %f\" % (expert_util))\n",
    "\n",
    "ave_total_wait_time = sum([x + y for x, y in zip(queue_w_times_operator, queue_w_times_expert)]) / CUSTOMER_COUNT\n",
    "print(\"Average Total Waiting Time: %f\" % (ave_total_wait_time))\n",
    "\n",
    "max_total_w_system_time_ratio = max([(w1 + w2) / end_time for w1, w2 in zip(queue_w_times_operator, queue_w_times_expert)])\n",
    "print(\"Maximum Total Waiting Time to Total System Time Ratio: %f\" % (max_total_w_system_time_ratio))\n",
    "\n",
    "ave_people_w_expert = sum(queue_w_times_expert) / end_time\n",
    "print(\"Average Number of people waiting to be served by the expert operator: %f\" % (ave_people_w_expert))"
   ]
  },
  {
   "cell_type": "markdown",
   "metadata": {},
   "source": [
    "## Expert service time Normally distributed with a mean of 9.3 and with a standard deviation of 3.1 - 1000 Customer"
   ]
  },
  {
   "cell_type": "code",
   "execution_count": null,
   "metadata": {},
   "outputs": [],
   "source": [
    "# Reset statistics\n",
    "service_times_operator = []\n",
    "service_times_expert = []\n",
    "queue_w_times_operator = []\n",
    "queue_w_times_expert = []\n",
    "end_time = 0;\n",
    "\n",
    "# Change customer count\n",
    "CUSTOMER_COUNT = 1000"
   ]
  },
  {
   "cell_type": "code",
   "execution_count": null,
   "metadata": {},
   "outputs": [],
   "source": [
    "env = simpy.Environment()\n",
    "operator = simpy.Resource(env, capacity = 1)\n",
    "expert = simpy.Resource(env, capacity = 1)\n",
    "env.process(customer_norm_generator(env, operator, expert))\n",
    "env.process(break_generator(env, operator, expert))\n",
    "env.run()"
   ]
  },
  {
   "cell_type": "code",
   "execution_count": null,
   "metadata": {},
   "outputs": [],
   "source": [
    "# Calculating statistics\n",
    "\n",
    "CUSTOMER_COUNT = 1000\n",
    "print(\"Expert service time Normally distributed with a mean of 9.3 and with a standard deviation of 3.1 - 1000 CUSTOMER\")\n",
    "total_operator_service_time = sum(service_times_operator)\n",
    "operator_util = total_operator_service_time / end_time\n",
    "total_expert_service_time = sum(service_times_expert)\n",
    "expert_util = total_expert_service_time / end_time\n",
    "print(\"First Operator Utilization: %f\" % (operator_util))\n",
    "print(\"Expert Utilization: %f\" % (expert_util))\n",
    "\n",
    "ave_total_wait_time = sum([x + y for x, y in zip(queue_w_times_operator, queue_w_times_expert)]) / CUSTOMER_COUNT\n",
    "print(\"Average Total Waiting Time: %f\" % (ave_total_wait_time))\n",
    "\n",
    "max_total_w_system_time_ratio = max([(w1 + w2) / end_time for w1, w2 in zip(queue_w_times_operator, queue_w_times_expert)])\n",
    "print(\"Maximum Total Waiting Time to Total System Time Ratio: %f\" % (max_total_w_system_time_ratio))\n",
    "\n",
    "ave_people_w_expert = sum(queue_w_times_expert) / end_time\n",
    "print(\"Average Number of people waiting to be served by the expert operator: %f\" % (ave_people_w_expert))"
   ]
  },
  {
   "cell_type": "markdown",
   "metadata": {},
   "source": [
    "## Expert service time Normally distributed with a mean of 9.3 and with a standard deviation of 3.1 - 5000 Customer"
   ]
  },
  {
   "cell_type": "code",
   "execution_count": null,
   "metadata": {},
   "outputs": [],
   "source": [
    "# Reset statistics\n",
    "service_times_operator = []\n",
    "service_times_expert = []\n",
    "queue_w_times_operator = []\n",
    "queue_w_times_expert = []\n",
    "end_time = 0;\n",
    "\n",
    "# Change customer count\n",
    "CUSTOMER_COUNT = 5000"
   ]
  },
  {
   "cell_type": "code",
   "execution_count": null,
   "metadata": {},
   "outputs": [],
   "source": [
    "env = simpy.Environment()\n",
    "operator = simpy.Resource(env, capacity = 1)\n",
    "expert = simpy.Resource(env, capacity = 1)\n",
    "env.process(customer_norm_generator(env, operator, expert))\n",
    "env.process(break_generator(env, operator, expert))\n",
    "env.run()"
   ]
  },
  {
   "cell_type": "code",
   "execution_count": null,
   "metadata": {},
   "outputs": [],
   "source": [
    "# Calculating statistics\n",
    "\n",
    "CUSTOMER_COUNT = 5000\n",
    "print(\"Expert service time Normally distributed with a mean of 9.3 and with a standard deviation of 3.1 - 5000 CUSTOMER\")\n",
    "total_operator_service_time = sum(service_times_operator)\n",
    "operator_util = total_operator_service_time / end_time\n",
    "total_expert_service_time = sum(service_times_expert)\n",
    "expert_util = total_expert_service_time / end_time\n",
    "print(\"First Operator Utilization: %f\" % (operator_util))\n",
    "print(\"Expert Utilization: %f\" % (expert_util))\n",
    "\n",
    "ave_total_wait_time = sum([x + y for x, y in zip(queue_w_times_operator, queue_w_times_expert)]) / CUSTOMER_COUNT\n",
    "print(\"Average Total Waiting Time: %f\" % (ave_total_wait_time))\n",
    "\n",
    "max_total_w_system_time_ratio = max([(w1 + w2) / end_time for w1, w2 in zip(queue_w_times_operator, queue_w_times_expert)])\n",
    "print(\"Maximum Total Waiting Time to Total System Time Ratio: %f\" % (max_total_w_system_time_ratio))\n",
    "\n",
    "ave_people_w_expert = sum(queue_w_times_expert) / end_time\n",
    "print(\"Average Number of people waiting to be served by the expert operator: %f\" % (ave_people_w_expert))"
   ]
  }
 ],
 "metadata": {
  "kernelspec": {
   "display_name": "Python 3",
   "language": "python",
   "name": "python3"
  },
  "language_info": {
   "codemirror_mode": {
    "name": "ipython",
    "version": 3
   },
   "file_extension": ".py",
   "mimetype": "text/x-python",
   "name": "python",
   "nbconvert_exporter": "python",
   "pygments_lexer": "ipython3",
   "version": "3.7.1"
  }
 },
 "nbformat": 4,
 "nbformat_minor": 2
}
